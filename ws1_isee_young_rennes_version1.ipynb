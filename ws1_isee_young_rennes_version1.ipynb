{
  "nbformat": 4,
  "nbformat_minor": 0,
  "metadata": {
    "colab": {
      "provenance": [],
      "authorship_tag": "ABX9TyMmnN0wp/836E4wjTef3ORo",
      "include_colab_link": true
    },
    "kernelspec": {
      "name": "python3",
      "display_name": "Python 3"
    },
    "language_info": {
      "name": "python"
    }
  },
  "cells": [
    {
      "cell_type": "markdown",
      "metadata": {
        "id": "view-in-github",
        "colab_type": "text"
      },
      "source": [
        "<a href=\"https://colab.research.google.com/github/alldominguez/isee_young_rennes_ws1/blob/main/ws1_isee_young_rennes_version1.ipynb\" target=\"_parent\"><img src=\"https://colab.research.google.com/assets/colab-badge.svg\" alt=\"Open In Colab\"/></a>"
      ]
    },
    {
      "cell_type": "markdown",
      "source": [
        "\n",
        "<img src=\"https://github.com/alldominguez/isee_young_rennes_ws1/blob/main/figures/logo_isse_young_rennes.PNG?raw=1\" alt=\"ISGlobal logo\" width=\"1000\"/>  \n",
        "\n",
        "# **Workshop 1: Statistical methods for studying mixtures and the exposome\"**  \n",
        "\n",
        "\n",
        "<img src=\"https://github.com/alldominguez/ISGlobal.sesion4.Exposoma/blob/main/figures/exposoma.png?raw=1\" alt=\"ISGlobal logo\" width=\"500\"/>\n",
        "\n",
        "- **Charline Warembourg**, Researcher at the French Institute of Health and Medical Research (INSERM).  \n",
        "- **Maximilien Genard-Walton**, Postdoctoral Researcher at the French Institute of Health and Medical Research (INSERM).  \n",
        "- **Augusto Anguita-Ruiz**, Postdoctoral Researcher at the Barcelona Institute for Global Health (ISGlobal).  \n",
        "- **Alan Domínguez**, Predoctoral Researcher at the Barcelona Institute for Global Health (ISGlobal).  \n",
        "\n",
        "The exposome, described as 'the totality of human environmental exposures from conception onwards,' acknowledges that individuals are simultaneously exposed to multiple different environmental factors, adopting a holistic approach to discovering etiological factors of disease. The main advantage of the exposome approach over more traditional 'one exposure, one disease or health outcome' models is that it provides a framework for studying multiple environmental risks (urban, chemical, lifestyle, social, etc.) and their combined effects.\n",
        "\n",
        "\n",
        "This workshop therefore aims at summarizing and presenting the main models used for studying mixtures and the exposome, and discussing the pros and cons of each method in relation to a specific study objectives."
      ],
      "metadata": {
        "id": "s5xuI4AjW8oC"
      }
    }
  ]
}