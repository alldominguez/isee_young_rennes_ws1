{
  "nbformat": 4,
  "nbformat_minor": 0,
  "metadata": {
    "colab": {
      "provenance": [],
      "authorship_tag": "ABX9TyPEKTR43AKlFD/IGC00IGUZ",
      "include_colab_link": true
    },
    "kernelspec": {
      "name": "python3",
      "display_name": "Python 3"
    },
    "language_info": {
      "name": "python"
    }
  },
  "cells": [
    {
      "cell_type": "markdown",
      "metadata": {
        "id": "view-in-github",
        "colab_type": "text"
      },
      "source": [
        "<a href=\"https://colab.research.google.com/github/alldominguez/isee_young_rennes_ws1/blob/main/ws1_isee_young_rennes_version1.ipynb\" target=\"_parent\"><img src=\"https://colab.research.google.com/assets/colab-badge.svg\" alt=\"Open In Colab\"/></a>"
      ]
    },
    {
      "cell_type": "markdown",
      "source": [
        "\n",
        "<img src=\"https://github.com/alldominguez/isee_young_rennes_ws1/blob/main/figures/logo_isse_young_rennes.PNG?raw=1\" alt=\"ISGlobal logo\" width=\"1000\"/>  \n",
        "\n",
        "# **Workshop 1: Statistical methods for studying mixtures and the exposome\"**  \n",
        "\n",
        "The study of mixtures and the exposome in the context of environmental epidemiological research is rapidly growing. Investigating mixtures and the exposome allows researchers to assess the independent and combined effects of various exposures, as well as their potential synergistic or antagonistic effects, on health outcomes. However, the complexity of exploring these questions requires the use of specific statistical models to account for aspects that single-exposure models cannot typically handle (e.g. multicollinearity).\n",
        "\n",
        "This workshop therefore aims at summarizing and presenting the main models used for studying mixtures and the exposome, and discussing the pros and cons of each method in relation to a specific study objectives.\n",
        "\n"
      ],
      "metadata": {
        "id": "s5xuI4AjW8oC"
      }
    },
    {
      "cell_type": "markdown",
      "source": [
        "## **Introduction to the NoteBook**\n",
        "\n",
        "Within this **NoteBook**, you will be guided step by step from loading a dataset to running some mixture and exposome analysis.\n",
        "\n",
        "The [Jupyter notebook](https://github.com/jupyter/notebook/tree/main) is an interactive computing environment that allows users to author notebook documents. Notebooks consist of **linear sequence of cells** that combines **code cells (input and output of live code that is run)**, and **markdown cells (narative text)**.\n",
        "\n",
        "The components of the notebook are:\n",
        "\n",
        "- **notebook web application:** an interactive web application for writing and running code interectively.\n",
        "- **kernels**: separate processes started by the notebook application that run users' code in an specific language (Python, R, Julia, Ruby, Scala, etc).\n",
        "- **notebook documents:** documents that contain a representation of all content visibile in the notebook web application.\n",
        "\n",
        "## **Step-by-step**\n",
        "\n",
        "The order of the instructions is **essential**, so each cell in this notebook must be executed **sequentially**. If you omit any, you could have an error in your notebook, so you should start running cells from the beginning.\n",
        "\n",
        "It is **very very important** that at the beginning you select **\"*Open in test mode*\" (draft mode)**, at the top left. Otherwise, it will not allow any block of code to be executed, for security reasons. When the first block is executed, the following message will appear: \"*Warning: This notebook was not created by Google.*\". Don't worry, you will have to trust the contents of the notebook (*NoteBook*) and click \"Run anyway\".\n",
        "\n",
        "Click the \"play\" button on the left side of each code cell. Lines of code that begin with a hashtag (#) are comments and do not affect the execution of the program.\n",
        "\n",
        "\n"
      ],
      "metadata": {
        "id": "utf2JCUACtuV"
      }
    },
    {
      "cell_type": "markdown",
      "source": [
        "\n",
        "## **Introduction to the NoteBook**\n",
        "\n",
        "Within this **NoteBook**, you will be guided step by step from loading a dataset to running some mixture and exposome analysis.\n",
        "\n",
        "The [Jupyter notebook](https://github.com/jupyter/notebook/tree/main) is an interactive computing environment that allows users to author notebook documents. Notebooks consist of **linear sequence of cells** that combines **code cells (input and output of live code that is run)**, and **markdown cells (narative text)**.\n",
        "\n",
        "The components of the notebook are:\n",
        "\n",
        "- **notebook web application:** an interactive web application for writing and running code interectively.\n",
        "- **kernels**: separate processes started by the notebook application that run users' code in an specific language (Python, R, Julia, Ruby, Scala, etc).\n",
        "- **notebook documents:** documents that contain a representation of all content visibile in the notebook web application.\n",
        "\n",
        "## **Step-by-step**\n",
        "\n",
        "The order of the instructions is **essential**, so each cell in this notebook must be executed **sequentially**. If you omit any, you could have an error in your notebook, so you should start running cells from the beginning.\n",
        "\n",
        "It is **very very important** that at the beginning you select **\"*Open in test mode*\" (draft mode)**, at the top left. Otherwise, it will not allow any block of code to be executed, for security reasons. When the first block is executed, the following message will appear: \"*Warning: This notebook was not created by Google.*\". Don't worry, you will have to trust the contents of the notebook (*NoteBook*) and click \"Run anyway\".\n",
        "\n",
        "Click the \"run\" button on the left side of each code cell. Lines of code that begin with a (#) are comments and do not affect the execution of the code in the different chunks across the notebook.\n",
        "\n"
      ],
      "metadata": {
        "id": "q7xZpFO_7hjj"
      }
    },
    {
      "cell_type": "markdown",
      "source": [
        "## **Mixture analysis**\n",
        "\n",
        "The main idea in mixture analysis is that low levels of exposure to a given contaminant may produce no health effects (or effects that are too small to be detected), but combined exposure to multiple contaminants can generate an effect.\n",
        "\n",
        "<img src=\"https://github.com/alldominguez/isee_young_rennes_ws1/blob/main/figures/PRIME.png?raw=1\" alt=\"ISGlobal logo\" width=\"500\"/>  \n",
        "\n",
        "Approaches used in environmental epidemiology fail to capture the complexity when evaluating the combined effect of multiple exposures due to some limitations:\n",
        "\n",
        "- They will not evaluate the joint effect of multiple exposures.\n",
        "- The interaction between different exposures is not considered.\n",
        "\n",
        "Therefore, other methods are needed to investigate the health effects of mixtures or multiple exposures. In recent years, various methods have been proposed to estimate the independent and joint effects of multiple exposures.\n",
        "\n",
        "The selection of the **correct method** in **mixture analysis** should be guided by the **research question we want to answer**.\n"
      ],
      "metadata": {
        "id": "q6o0dKcA8dm9"
      }
    }
  ]
}