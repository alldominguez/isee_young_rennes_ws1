{
 "cells": [
  {
   "cell_type": "markdown",
   "metadata": {},
   "source": [
    "\n",
    "<img src=\"https://github.com/alldominguez/isee_young_rennes_ws1/blob/main/figures/logo_isse_young_rennes.PNG?raw=1\" alt=\"ISGlobal logo\" width=\"1000\"/>  \n",
    "\n",
    "# **Workshop 1: Statistical methods for studying mixtures and the exposome\"**  \n",
    "\n",
    "\n",
    "<img src=\"https://github.com/alldominguez/ISGlobal.sesion4.Exposoma/blob/main/figures/exposoma.png?raw=1\" alt=\"ISGlobal logo\" width=\"500\"/>\n",
    "\n",
    "- **Charline Warembourg**, Researcher at the French Institute of Health and Medical Research (INSERM).  \n",
    "- **Maximilien Genard-Walton**, Postdoctoral Researcher at the French Institute of Health and Medical Research (INSERM).  \n",
    "- **Augusto Anguita-Ruiz**, Postdoctoral Researcher at the Barcelona Institute for Global Health (ISGlobal).  \n",
    "- **Alan Domínguez**, Predoctoral Researcher at the Barcelona Institute for Global Health (ISGlobal).  \n",
    "\n",
    "The exposome, described as 'the totality of human environmental exposures from conception onwards,' acknowledges that individuals are simultaneously exposed to multiple different environmental factors, adopting a holistic approach to discovering etiological factors of disease. The main advantage of the exposome approach over more traditional 'one exposure, one disease or health outcome' models is that it provides a framework for studying multiple environmental risks (urban, chemical, lifestyle, social, etc.) and their combined effects.\n",
    "\n",
    "\n",
    "This workshop therefore aims at summarizing and presenting the main models used for studying mixtures and the exposome, and discussing the pros and cons of each method in relation to a specific study objectives.\n",
    "\n",
    "\n",
    "\n"
   ]
  },
  {
   "cell_type": "markdown",
   "metadata": {},
   "source": [
    "\n",
    "## **Introduction to the NoteBook**\n",
    "\n",
    "Within this **NoteBook**, you will be guided step by step from loading a dataset to running some mixture and exposome analysis.\n",
    "\n",
    "The [Jupyter notebook](https://github.com/jupyter/notebook/tree/main) is an interactive computing environment that allows users to author notebook documents. Notebooks consist of **linear sequence of cells** that combines **code cells (input and output of live code that is run)**, and **markdown cells (narative text)**.\n",
    "\n",
    "The components of the notebook are:\n",
    "\n",
    "- **notebook web application:** an interactive web application for writing and running code interectively.\n",
    "- **kernels**: separate processes started by the notebook application that run users' code in an specific language (Python, R, Julia, Ruby, Scala, etc).\n",
    "- **notebook documents:** documents that contain a representation of all content visibile in the notebook web application.\n",
    "\n",
    "## **Step-by-step**\n",
    "\n",
    "The order of the instructions is **essential**, so each cell in this notebook must be executed **sequentially**. If you omit any, you could have an error in your notebook, so you should start running cells from the beginning.\n",
    "\n",
    "It is **very very important** that at the beginning you select **\"*Open in test mode*\" (draft mode)**, at the top left. Otherwise, it will not allow any block of code to be executed, for security reasons. When the first block is executed, the following message will appear: \"*Warning: This notebook was not created by Google.*\". Don't worry, you will have to trust the contents of the notebook (*NoteBook*) and click \"Run anyway\".\n",
    "\n",
    "Click the \"play\" button on the left side of each code cell. Lines of code that begin with a hashtag (#) are comments and do not affect the execution of the program.\n",
    "\n",
    "You can also click on each cell and do *ctrl+enter* (*cmd+enter* on Mac).\n",
    "\n",
    "Every time you run a block, you will see the output right below it. The information is usually always that related to the last instruction, along with all the `print()` that are in the code.\n"
   ]
  },
  {
   "cell_type": "markdown",
   "metadata": {},
   "source": [
    "## **ÍNDICE**\n",
    "1. [Instalación del entorno R y sus bibliotecas para el análisis de exposoma](#instalacion-librerias)    \n",
    "2. [Cargar los datos](#cargar-datos)\n",
    "3. [Análisis descriptivo del Exposoma](#descriptivo)   \n",
    "4. [Análisis de asociación del Exposoma](#asociacion)\n",
    "  "
   ]
  },
  {
   "cell_type": "markdown",
   "metadata": {},
   "source": [
    "## **1. Installation of the R environment and libraries for analysis** <a name=\"instalacion-librerias\"></a>\n",
    "\n",
    "* **Install R environment**\n",
    "\n",
    "Installing R in our Google Colab environment will be done in the following code block. Remember that all library installations that we perform in the Google Colab environment will only remain active for a few hours, after which the installed libraries are deleted. Therefore, you will need to rerun the library installation codes in this section when you need to run notebook again after this time.\n"
   ]
  },
  {
   "cell_type": "code",
   "execution_count": null,
   "metadata": {},
   "outputs": [],
   "source": [
    "# primero chequeamos la version de R que tenemos\n",
    "#R.Version()"
   ]
  },
  {
   "cell_type": "markdown",
   "metadata": {},
   "source": [
    "* **Install/load libraries for the session**\n",
    "\n",
    "We will install/load the necessary libraries for the practical session, for this we will use the `pacman` package, this package is an administration tool that combines functionalities of the `install.packages` + `library` functions.\n",
    "\n",
    "In the context of exposome analysis, R libraries offer us a much more convenient way to process, manipulate and analyze data. Some of these libraries: `tidyverse`, `skimr`, `rexposome`, `bkmr`, `gWQS`.\n",
    "\n",
    "\n",
    "\n",
    "\n",
    "\n",
    "\n"
   ]
  },
  {
   "cell_type": "code",
   "execution_count": null,
   "metadata": {},
   "outputs": [],
   "source": [
    "# Execution time: 3 sec.\n",
    "install.packages(\"pacman\")"
   ]
  },
  {
   "cell_type": "markdown",
   "metadata": {},
   "source": [
    "Instalaremos `BiocManager` y `rexposome` (estos dos paquetes son fundamentales para el análsis del exposoma), utilizando el siguiente código ya que algunas veces suele tener problemas de compatibilidad con la versión de R (el proceso tarda alrededor de **20 minutos**, por lo que se recomienda instalarla durante la sesión teórica."
   ]
  },
  {
   "cell_type": "code",
   "execution_count": null,
   "metadata": {},
   "outputs": [],
   "source": [
    "# Tiempo estimado de ejecución: 23 minutos aprox.\n",
    "\n",
    "if (!requireNamespace(\"BiocManager\", quietly=TRUE))\n",
    "    install.packages(\"BiocManager\")\n",
    "\n",
    "packages = c('Biobase', 'mice', 'MultiDataSet', 'lsr', 'FactoMineR',\n",
    "\t'stringr', 'circlize', 'corrplot', 'ggplot2', 'reshape2', 'pryr',\n",
    "\t'scales', 'imputeLCMD', 'scatterplot3d', 'glmnet', 'gridExtra',\n",
    "\t'grid', 'Hmisc', 'gplots', 'gtools', 'S4Vectors'\n",
    ")\n",
    "for( pkg in packages ) {\n",
    "  if( !pkg %in% rownames( installed.packages() ) ) {\n",
    "    message( \"Installing \", pkg )\n",
    "    BiocManager::install( pkg )\n",
    "  }\n",
    "}"
   ]
  },
  {
   "cell_type": "code",
   "execution_count": null,
   "metadata": {},
   "outputs": [],
   "source": [
    "# Tiempo estimado de ejecución: 2 minutos aprox.\n",
    "# instalamos rexposome (la instalación de rexposome tarda un poco dependiendo de nuestra conexón)\n",
    "install.packages(\"devtools\")\n",
    "devtools::install_github(\"isglobal-brge/rexposome\")"
   ]
  },
  {
   "cell_type": "code",
   "execution_count": null,
   "metadata": {},
   "outputs": [],
   "source": [
    "#para aquellos que tienen una version antigua de R (en el caso de usar Rstudio desktop)\n",
    "#devtools::install_github(\"isglobal-brge/rexposome\", ref=\"R-3.0\")"
   ]
  },
  {
   "cell_type": "code",
   "execution_count": null,
   "metadata": {},
   "outputs": [],
   "source": [
    "# Tiempo estimado de ejecución: 8 minutos aprox.\n",
    "# Añadimos todas las librerias que necesitemos utilizar (si el paquete ya esta instalado, automaticamente cargara el paquete si esta en la funcion pacman::p_load())\n",
    "pacman::p_load(tidyverse, corrplot, RColorBrewer, skimr, bkmr, gWQS, ggridges, rexposome,\n",
    " MASS, caret, glmnet, partDSA)"
   ]
  },
  {
   "cell_type": "code",
   "execution_count": null,
   "metadata": {},
   "outputs": [],
   "source": [
    "#if (!require(\"BiocManager\", quietly = TRUE))\n",
    "#  install.packages(\"BiocManager\")\n",
    "#BiocManager::install(\"rexposome\", force = TRUE)\n"
   ]
  },
  {
   "cell_type": "markdown",
   "metadata": {},
   "source": [
    "## **2. Load the data** <a name=\"cargar-datos\"></a>\n",
    "\n",
    "Below are the **lines of code** required to **load** the Exposoma data set into the R environment. For this hands-on session we will use data from the HELIX exposome study. The HELIX study is a collaborative project between six population-based longitudinal birth cohort studies from six European countries (France, Greece, Lithuania, Norway, Spain and the United Kingdom).\n",
    "\n",
    "<img src=\"https://github.com/alldominguez/isee_young_rennes_ws1/blob/main/figures/HELIX.png?raw=1\" alt=\"HELIX logo\" width=\"600\"/>\n",
    "\n",
    "**Note:** The data provided in this introductory course were simulated using data from the HELIX subcohort. Details of the HELIX project and the origin of the data collected can be consulted in the following publication: https://bmjopen.bmj.com/content/8/9/e021311 and website: https://www.projecthelix.eu/es .\n",
    "\n",
    "* The **exposome data (n = 1301)** that we will use is contained in an Rdata file, the file contains the following files:\n",
    "\n",
    "1. `phenotype` (outcomes)\n",
    "2. `exposome`\n",
    "3. `covariates` (covariates)\n",
    "\n",
    "\n",
    "The `exposome` database contains more than **200 exposures**.\n",
    "\n",
    "<img src=\"https://github.com/alldominguez/isee_young_rennes_ws1/blob/main/figures/HELIX_exposures.png?raw=1\" alt=\"HELIX exposures\" width=\"700\"/>\n",
    "\n",
    "The description of each variable (name, structure, variable type, transformation, ...) is detailed in the [codebook](https://github.com/alldominguez/isee_young_rennes/blob/main/data/codebook.csv).\n",
    "\n",
    "\n"
   ]
  },
  {
   "cell_type": "markdown",
   "metadata": {},
   "source": [
    "**1.-** Cargamos los datos necesarios para la sesión"
   ]
  },
  {
   "cell_type": "code",
   "execution_count": null,
   "metadata": {},
   "outputs": [],
   "source": [
    "# Opción 1 (cargamos las bases de datos como archivos csv)\n",
    "phenotype <- read.csv2(url(\"https://raw.githubusercontent.com/alldominguez/ISGlobal.sesion4.Exposoma/main/data/phenotype.csv\"),  header = TRUE) # outcomes\n",
    "exposome <- read.csv2(url(\"https://raw.githubusercontent.com/alldominguez/ISGlobal.sesion4.Exposoma/main/data/exposome.csv\"), header = TRUE) # exposiciones\n",
    "covariates <- read.csv2(url(\"https://raw.githubusercontent.com/alldominguez/ISGlobal.sesion4.Exposoma/main/data/covariates.csv\"), header = TRUE) # covariables\n",
    "codebook <- read.csv2(url(\"https://raw.githubusercontent.com/alldominguez/ISGlobal.sesion4.Exposoma/main/data/codebook.csv\")) # codebook"
   ]
  },
  {
   "cell_type": "code",
   "execution_count": null,
   "metadata": {},
   "outputs": [],
   "source": [
    "# Opción 2 (cargamos un archivo RData, este archivo contiene los 3 dataset + el codebook)\n",
    "load(url(\"https://raw.githubusercontent.com/alldominguez/ISGlobal.sesion4.Exposoma/main/data/exposome.RData\")) #con esta línea cargamos todo"
   ]
  },
  {
   "cell_type": "code",
   "execution_count": null,
   "metadata": {},
   "outputs": [],
   "source": [
    "phenotype\n",
    "exposome\n",
    "covariates\n",
    "codebook"
   ]
  },
  {
   "cell_type": "markdown",
   "metadata": {},
   "source": [
    "**2.-** Revisamos la estructura y dimensión de los datos"
   ]
  },
  {
   "cell_type": "code",
   "execution_count": null,
   "metadata": {},
   "outputs": [],
   "source": [
    "dplyr::glimpse(phenotype) # 1301 observaciones"
   ]
  },
  {
   "cell_type": "code",
   "execution_count": null,
   "metadata": {},
   "outputs": [],
   "source": [
    "dplyr::glimpse(exposome) # 1301 observaciones"
   ]
  },
  {
   "cell_type": "code",
   "execution_count": null,
   "metadata": {},
   "outputs": [],
   "source": [
    "dplyr::glimpse(covariates) # 1301 observaciones"
   ]
  },
  {
   "cell_type": "code",
   "execution_count": null,
   "metadata": {},
   "outputs": [],
   "source": [
    "dplyr::glimpse(codebook) # este archivo contiene el codebook con la descripción de cada variable"
   ]
  },
  {
   "cell_type": "markdown",
   "metadata": {},
   "source": [
    "* Si cargamos los archivos csv tenemos que hacer un paso adicional"
   ]
  },
  {
   "cell_type": "code",
   "execution_count": null,
   "metadata": {},
   "outputs": [],
   "source": [
    "#rownames(codebook) <- codebook[, 2]\n",
    "#codebook <- codebook[, -1]"
   ]
  },
  {
   "cell_type": "code",
   "execution_count": null,
   "metadata": {},
   "outputs": [],
   "source": [
    "dplyr::glimpse(codebook)"
   ]
  },
  {
   "cell_type": "markdown",
   "metadata": {},
   "source": [
    "**3.-** Hacemos un resumen rápido de nuestros datos, para revisar si estos se cargaron correctamente."
   ]
  },
  {
   "cell_type": "code",
   "execution_count": null,
   "metadata": {},
   "outputs": [],
   "source": [
    "skimr::skim(phenotype)"
   ]
  },
  {
   "cell_type": "code",
   "execution_count": null,
   "metadata": {},
   "outputs": [],
   "source": [
    "skimr::skim(exposome)"
   ]
  },
  {
   "cell_type": "code",
   "execution_count": null,
   "metadata": {},
   "outputs": [],
   "source": [
    "skimr::skim(covariates)"
   ]
  },
  {
   "cell_type": "markdown",
   "metadata": {},
   "source": [
    "*   Vamos a utilizar la función `rexposome::loadExposome` para crear un solo dataset (`ExposomeSet`) a traves de los `data.frames` que cargamos inicialmente. Primero ordenaremos los datos en el formato adecuado para nuestro análisis.\n",
    "\n",
    "\n"
   ]
  },
  {
   "cell_type": "code",
   "execution_count": null,
   "metadata": {},
   "outputs": [],
   "source": [
    "levels(codebook$family)"
   ]
  },
  {
   "cell_type": "code",
   "execution_count": null,
   "metadata": {},
   "outputs": [],
   "source": [
    "# Hacemos un subset de las variables para fines ilustrativos (puedes probar con otras familias)\n",
    "#xpo.list <- as.character(codebook$variable_name[(codebook$family == \"Organochlorines\" |\n",
    "                                                 #codebook$family == \"Metals\" |\n",
    "                                                 #codebook$family == \"Chemicals\" |\n",
    "                                                 #codebook$family == \"Air Pollution\" |\n",
    "                                                 #codebook$family == \"Indoor air\" |\n",
    "                                                 #codebook$family == \"Built environment\") &\n",
    "                                                 #codebook$period == \"Postnatal\"]) cambiar por \"Pregnancy\"\n",
    "#expo.list"
   ]
  },
  {
   "cell_type": "code",
   "execution_count": null,
   "metadata": {},
   "outputs": [],
   "source": [
    "# podemos probar con otro subset\n",
    "expo.list <- as.character(codebook$variable_name[(codebook$family == \"Organochlorines\" |\n",
    "                                                  codebook$family == \"Metals\" |\n",
    "                                                  codebook$family == \"Built environment\") &\n",
    "                                                  codebook$period == \"Postnatal\"])\n",
    "expo.list"
   ]
  },
  {
   "cell_type": "code",
   "execution_count": null,
   "metadata": {},
   "outputs": [],
   "source": [
    "# podemos excluir algunas variables de exposición en las que no tenemos interes\n",
    "expo.list <- expo.list[-which(expo.list == \"hs_tl_cdich_None\")]\n",
    "expo.list <- expo.list[-which(expo.list == \"hs_sumPCBs5_cadj_Log2\")]"
   ]
  },
  {
   "cell_type": "code",
   "execution_count": null,
   "metadata": {},
   "outputs": [],
   "source": [
    "# seleccionamos columnas(variables) específicas provenientes de las familias que seleccionamos en el paso anterior y añadimos la variable ID\n",
    "expo2 <- exposome[ ,c(\"ID\", expo.list)]"
   ]
  },
  {
   "cell_type": "code",
   "execution_count": null,
   "metadata": {},
   "outputs": [],
   "source": [
    "# escalamos las variables continuas utilizando\n",
    "index.cont <- c(3:9,11:ncol(expo2))\n",
    "for (i in index.cont) {\n",
    "  expo2[,i] <- expo2[,i]/IQR(expo2[,i],na.rm=T)\n",
    "}"
   ]
  },
  {
   "cell_type": "code",
   "execution_count": null,
   "metadata": {},
   "outputs": [],
   "source": [
    "# revisamos las variables seleccionadas\n",
    "dplyr::glimpse(expo2)"
   ]
  },
  {
   "cell_type": "code",
   "execution_count": null,
   "metadata": {},
   "outputs": [],
   "source": [
    "# listado de variables de exposición\n",
    "codebook[expo.list,]$labels"
   ]
  },
  {
   "cell_type": "markdown",
   "metadata": {},
   "source": [
    "* Combinamos datos de los ficheros `phenotype` y `covariates`"
   ]
  },
  {
   "cell_type": "code",
   "execution_count": null,
   "metadata": {},
   "outputs": [],
   "source": [
    "dat <- cbind(hs_zbmi_who = phenotype[ ,4],  # seleccionamos la 4 columna del dataframe phenotype y la llamamos hs_zbmi_who\n",
    "             covariates[ ,2:13])  # seleccionamos de las columnas 2 a la 13 del dataframe covariates\n",
    "\n",
    "# luego combinamos\n",
    "data <- data.frame(expo2, dat)"
   ]
  },
  {
   "cell_type": "code",
   "execution_count": null,
   "metadata": {},
   "outputs": [],
   "source": [
    "# revisamos la base de datos generadas\n",
    "dplyr::glimpse(codebook)"
   ]
  },
  {
   "cell_type": "code",
   "execution_count": null,
   "metadata": {},
   "outputs": [],
   "source": [
    "str(data)"
   ]
  },
  {
   "cell_type": "markdown",
   "metadata": {},
   "source": [
    "Ahora crearemos nuestro objecto `ExposomeSet` combinando nuestros tres archivos que trabajamos en las líneas anteriores. Este dataset esta compuesto por:\n",
    "\n",
    "* **3 familias de exposiciones** (built environment, metals, orgaanochlorines), son **32 exposiciones en total**. [variables continuas]\n",
    "* **1 outcome** (z-score for BMI) [variable continua]\n",
    "* **1 ventana de exposición** [periodo postnatal]\n",
    "\n"
   ]
  },
  {
   "cell_type": "code",
   "execution_count": null,
   "metadata": {},
   "outputs": [],
   "source": [
    "exp <- rexposome::loadExposome(\n",
    "  exposures = expo2[expo.list],\n",
    "  description = codebook[expo.list,],\n",
    "  phenotype = dat,\n",
    "  description.famCol = \"family\"\n",
    "  )"
   ]
  },
  {
   "cell_type": "code",
   "execution_count": null,
   "metadata": {},
   "outputs": [],
   "source": [
    "dplyr::glimpse(exp)"
   ]
  },
  {
   "cell_type": "markdown",
   "metadata": {},
   "source": [
    "Tambien podemos unir nuestras bases de datos usando la función `dplyr::inner_join`, este objecto llamado `exp_all` sera un `data.frame` y no un objecto `ExposomeSet` por lo que no podremos utilizar todas las funcionalidades del paquete `rexposome`"
   ]
  },
  {
   "cell_type": "code",
   "execution_count": null,
   "metadata": {},
   "outputs": [],
   "source": [
    "# con esta línea podemos unir todas las bases de datos utilizando ID como la key variable\n",
    "exp_all <- phenotype %>%\n",
    "           dplyr::inner_join(exposome, by = \"ID\") %>%\n",
    "           dplyr::inner_join(covariates, by = \"ID\")"
   ]
  },
  {
   "cell_type": "code",
   "execution_count": null,
   "metadata": {},
   "outputs": [],
   "source": [
    "dplyr::glimpse(exp_all) # 1,301 observaciones y 242 variables"
   ]
  },
  {
   "cell_type": "markdown",
   "metadata": {},
   "source": [
    "## **3.- Análisis descriptivo del Exposoma** <a name=\"descriptivo\"></a>\n",
    "\n",
    "Para el análsis descriptivo del exposoma vamos a utilizar la libreria `rexposome`. Esta libreria contiene diferentes funciones diseñadas para explorar y describir datos de exposoma (missing data, distribución, correlación). Algunas de sus funciones son: `normalityTest` ,`plotMissing`, `plotHistogram`, `plotFamily`, `correlation`, `plotCorrelation`."
   ]
  },
  {
   "cell_type": "code",
   "execution_count": null,
   "metadata": {},
   "outputs": [],
   "source": [
    "# revisamos la base de datos que utilizaremos (es necesario que sea un ExposomeSet object)\n",
    "str(exp)"
   ]
  },
  {
   "cell_type": "markdown",
   "metadata": {},
   "source": [
    "Utilizaremos la función `rexposome::normaltyTest` para evaluar las variables del exposoma que siguen una distribución normal."
   ]
  },
  {
   "cell_type": "code",
   "execution_count": null,
   "metadata": {},
   "outputs": [],
   "source": [
    "nm <- rexposome::normalityTest(exp)\n",
    "table(nm$normality)"
   ]
  },
  {
   "cell_type": "code",
   "execution_count": null,
   "metadata": {},
   "outputs": [],
   "source": [
    "# revisamos todas las variables que no tienen una distribución normal\n",
    "nm$exposure[!nm$normality]"
   ]
  },
  {
   "cell_type": "markdown",
   "metadata": {},
   "source": [
    "### **3.1.- Visualización de la distribución y concentración de variables del Exposoma**"
   ]
  },
  {
   "cell_type": "code",
   "execution_count": null,
   "metadata": {},
   "outputs": [],
   "source": [
    "str(exp)"
   ]
  },
  {
   "cell_type": "markdown",
   "metadata": {},
   "source": [
    "* **Histogramas**  \n",
    "\n",
    "Utilizando la función `plotHistogram` revisamos la distribución de las variables categoricas y continuas de nuestra base de datos. En los histogramas podemos ver una exposción de cada familia\n",
    "\n"
   ]
  },
  {
   "cell_type": "code",
   "execution_count": null,
   "metadata": {},
   "outputs": [],
   "source": [
    "rexposome::plotHistogram(exp, select = \"hs_pb_c_Log2\") + ggtitle(\"Distribución exposición a Plomo\")  # Histograma pb\n",
    "rexposome::plotHistogram(exp, select = \"hs_pcb180_cadj_Log2\") + ggtitle(\"Distribución exposición a Bifenilos Policlorados (PCB's)\") # Histograma pcb180\n",
    "rexposome::plotHistogram(exp, select = \"hs_popdens_h_Sqrt\") + ggtitle(\"Distribución Densidad poblacional\") # Histograma densidad poblacional"
   ]
  },
  {
   "cell_type": "markdown",
   "metadata": {},
   "source": [
    "* **Boxplots**\n",
    "\n",
    "Utilizando la función `plotFamily` podemos describir una exposición por familia y estratificar por grupo. A continuación vamos a ver algunos ejemplos (pueden probar con otras familias"
   ]
  },
  {
   "cell_type": "code",
   "execution_count": null,
   "metadata": {},
   "outputs": [],
   "source": [
    "# Contaminantes Organoclorados estratificado por Sexo\n",
    "rexposome::plotFamily(exp, family = \"Organochlorines\", group = \"e3_sex_None\") +\n",
    "   xlab('Contaminante') +\n",
    "   ylab('Concentracion')"
   ]
  },
  {
   "cell_type": "code",
   "execution_count": null,
   "metadata": {},
   "outputs": [],
   "source": [
    "# Contaminantes Organoclorados** estratificado por Cohorte\n",
    "rexposome::plotFamily(exp, family = \"Organochlorines\", group = \"h_cohort\") +\n",
    "                      xlab('Contaminante') +\n",
    "                      ylab('Concentracion')"
   ]
  },
  {
   "cell_type": "code",
   "execution_count": null,
   "metadata": {},
   "outputs": [],
   "source": [
    "# Contaminación del aire interior estratificado por Cohorte\n",
    "#rexposome::plotFamily(exp, family = \"Indoor air\", group = \"h_cohort\")"
   ]
  },
  {
   "cell_type": "code",
   "execution_count": null,
   "metadata": {},
   "outputs": [],
   "source": [
    "# Metales estratificados por Cohorte\n",
    "rexposome::plotFamily(exp, family = \"Metals\", group = \"h_cohort\")"
   ]
  },
  {
   "cell_type": "markdown",
   "metadata": {},
   "source": [
    "### **3.2.- Correlación entre exposiciones**\n",
    "\n",
    "La correlación entre variables es algo importante a tener en consideración cuando queremos hacer análisis en exposoma. Para mirar la correlación intrafamiliar e interfamiliar de las diferentes exposicioens, utilizaremos la funcion `rexposome::correlation`."
   ]
  },
  {
   "cell_type": "code",
   "execution_count": null,
   "metadata": {},
   "outputs": [],
   "source": [
    "exp_cor <- rexposome::correlation(exp, use = \"pairwise.complete.obs\", method.cor = \"spearman\") # podemos usar pearson como método de correlación"
   ]
  },
  {
   "cell_type": "code",
   "execution_count": null,
   "metadata": {},
   "outputs": [],
   "source": [
    "extract(exp_cor)[1:4, 1:4]"
   ]
  },
  {
   "cell_type": "markdown",
   "metadata": {},
   "source": [
    "Podemos visualizar la correlación de todas las exposiciones del exposoma (de nuestro set de datos) utilizando dos tipos de gráficos con la función `rexposome::plotCorrelation`. Cambiando el argumento type por `circos` o `matrix` obtenemos un gráfico diferente."
   ]
  },
  {
   "cell_type": "code",
   "execution_count": null,
   "metadata": {},
   "outputs": [],
   "source": [
    "options(repr.plot.width=10, repr.plot.height=10)\n",
    "rexposome::plotCorrelation(exp_cor, type = \"circos\")"
   ]
  },
  {
   "cell_type": "code",
   "execution_count": null,
   "metadata": {},
   "outputs": [],
   "source": [
    "options(repr.plot.width=8, repr.plot.height=8)\n",
    "rexposome::plotCorrelation(exp_cor, type = \"matrix\")\n"
   ]
  },
  {
   "cell_type": "markdown",
   "metadata": {},
   "source": [
    "### **3.3.- Análisis de Componentes Principales (PCA)**\n",
    "\n",
    "El PCA es un algoritmo de machine learning no supervisado utilizado para análisis exploratorios y de reducción de dimensiones. Para aplicar este análisis es necesario que las exposiciones sean estandarizadas, para esto el paquete `rexposome` cuenta con la función `rexposome::standardize` que prepara nuestros datos para aplicar posteriormente el PCA utilizando la funcion `rexposome::pca`. Luego de aplicar el PCA podemos visualizar nuestro análisis utilizando la función `rexposome::plotPCA`"
   ]
  },
  {
   "cell_type": "code",
   "execution_count": null,
   "metadata": {},
   "outputs": [],
   "source": [
    "dplyr::glimpse(exp)"
   ]
  },
  {
   "cell_type": "code",
   "execution_count": null,
   "metadata": {},
   "outputs": [],
   "source": [
    "# Estandraizamos las variables de exposición de nuestro objeto exp\n",
    "exp_std <- rexposome::standardize(exp, method = \"normal\")\n",
    "exp_std"
   ]
  },
  {
   "cell_type": "code",
   "execution_count": null,
   "metadata": {},
   "outputs": [],
   "source": [
    "# Aplicamos el PCA a nuestro nuevo objeto estandarizado exp_std\n",
    "exp_pca <- rexposome::pca(exp_std)\n",
    "exp_pca"
   ]
  },
  {
   "cell_type": "code",
   "execution_count": null,
   "metadata": {},
   "outputs": [],
   "source": [
    "# Visualizamos los resultados del PCA\n",
    "rexposome::plotPCA(exp_pca, set = \"all\")"
   ]
  },
  {
   "cell_type": "markdown",
   "metadata": {},
   "source": [
    "***Interpretación PCA***\n",
    "\n",
    "* **Exposures Space:** Este gráfico representa la variabilidad entre las diferentes exposiciones (es decir, las características o variables de entrada). Cada punto en este espacio corresponde a una exposición especifica. La posición de cada punto en las coordenadas PC1 y PC2 indica cuánta varibilidad de esa característica se captura en esas dos componentes principales.\n",
    "\n",
    "* **Samples Space:** Este gráfico representa la variabilidad entre las diferentes muestras o sujetos. Cada punto representa una observación (individuos en nuestro ejemplo), y su posición en las coordenadas PC1 y PC2 indica cuánto de la varibilidad total de esa muestra se describe por esas dos componentes principales.\n",
    "\n",
    "* **Explained Variance:** Este gráfico de barras muestra el porcentaje de varianza total del conjunto de datos que es explicado por cada componente principal individual. El primer componente (PC1) suele explicar la mayor parte de la variabilidad, seguido por el segundo (PC2), y así sucesivamente. La altura de cada barra indica cuánta varianza explica cada componente.\n",
    "\n",
    "* **Accum. Explained Variance:** Este gráfico indica cuánta variabilidad total se ha capturado después de sumar cada componente principal sucesivo. Por ejemplo, la varianza explicada por PC1 + PC2 juntos, luego PC1 + PC2 + PC3, y así sucesivamente.\n",
    "\n",
    "En **resumen** podemos concluir de nuestro análisis **PCA**:\n",
    "\n",
    "**1.** PC1 explica el 18,76% de la varianza total, mientras que PC2 explica el 13,39%.  \n",
    "**2.** Las exposiciones (caracteristicas del exposoma) se agrupan en regiones específicas en el espacio de exposiciones, lo que indica que algunas características son similares entre sí.   \n",
    "**3.** Los individuos en el espacio de muestras se agrupan densamente en torno a un área central, con algunos grupos de puntos dispersos, lo que podría indicar posibles patrones dentro de los datos (clusters).  \n",
    "\n",
    "\n",
    "\n",
    "\n",
    "\n"
   ]
  },
  {
   "cell_type": "code",
   "execution_count": null,
   "metadata": {},
   "outputs": [],
   "source": [
    "rexposome::plotPCA(exp_pca, set = \"samples\", phenotype = \"h_cohort\")"
   ]
  },
  {
   "cell_type": "markdown",
   "metadata": {},
   "source": [
    "**Interpretación PCA - cohorte**\n",
    "\n",
    "En el gráfico podemos ver que las observaciones de las diferentes cohortes se superponen en gran medida, pero también hay áreas en las que ciertas observaciones tienden a agruparse más densamente. A pesar de que vemos cierta clusterización o agrupación de observaciones, existe una superposición significativa entre los puntos, **lo que podría indicar que las diferencias entre cohortes no son las principales fuentes de variación en este conjunto de datos**. Este tipo de gráfico es útil para visualizar cómo se relacionan las muestras entre sí en función de su variabilidad y cómo se distribuyen en función de una categoría de interés, en este caso la variable cohorte.\n",
    "\n"
   ]
  },
  {
   "cell_type": "markdown",
   "metadata": {},
   "source": [
    "## **4.- Análisis de asociación del Exposoma** <a name=\"asociacion\"></a>\n",
    "Una vez exploradas y descritas las variables del exposoma que queremos estudiar, podemos mirar la asociación entre algún desenlace de salud y las diferentes exposiciones mediante diferentes aproximaciones como las mencionadas en la parte teórica.\n"
   ]
  },
  {
   "cell_type": "markdown",
   "metadata": {},
   "source": [
    "### **4.1.- Exposome-Wide association analysis (ExWAS)**\n",
    "\n",
    "El método ExWAS es una aproximación que nos permite lidiar con high-dimensionality data. Este método testea la asociación de cada una de las exposiciones con el desenlace de salud de interés, ajustando por variables confusoras (pero no por co-exposiciones), adicionalmente nos permite controlar por testeos múltiples. Este método puede ser aplicado a través de la función `rexposome::exwas`."
   ]
  },
  {
   "cell_type": "code",
   "execution_count": null,
   "metadata": {},
   "outputs": [],
   "source": [
    "exwas <- rexposome::exwas(exp, formula = hs_zbmi_who ~ h_cohort + e3_sex_None + e3_yearbir_None, family = \"gaussian\")\n",
    "exwas"
   ]
  },
  {
   "cell_type": "code",
   "execution_count": null,
   "metadata": {},
   "outputs": [],
   "source": [
    "# Obtenemos el threshold para el número efectivo de testeo (multiple testing): corrected p-value\n",
    "rexposome::tef(exwas)"
   ]
  },
  {
   "cell_type": "code",
   "execution_count": null,
   "metadata": {},
   "outputs": [],
   "source": [
    "rexposome::extract(exwas)"
   ]
  },
  {
   "cell_type": "code",
   "execution_count": null,
   "metadata": {},
   "outputs": [],
   "source": [
    "exwas_result <- round(as.data.frame(extract(exwas)),6)\n",
    "View(exwas_result)"
   ]
  },
  {
   "cell_type": "code",
   "execution_count": null,
   "metadata": {},
   "outputs": [],
   "source": [
    "# Seleccionamos las exposiciones que tienen un p-valor inferior al tef\n",
    "exwas_result[exwas_result$pvalue<tef(exwas),]"
   ]
  },
  {
   "cell_type": "markdown",
   "metadata": {},
   "source": [
    "Utilizando la función `rexposome::plotExwas` podemos visualizar los resultados del exwas usando un Manhattan plot. Este tipo de gráfico es particularmente útil ya que nos permite visualizar la asociación estadistica a traves del p-valor agrupado por las diferentes familias de exposición. Es importante mencionar que el Manhattan plot solo nos enseña los p-valores, pero ninguna metrica de el efecto de las exposiones es enseñado."
   ]
  },
  {
   "cell_type": "code",
   "execution_count": null,
   "metadata": {},
   "outputs": [],
   "source": [
    "clr <- rainbow(length(familyNames(exp)))\n",
    "names(clr) <- familyNames(exp)\n",
    "\n",
    "rexposome::plotExwas(exwas, color = clr, show.effective = TRUE,\n",
    "          exp.order=expo.list) +\n",
    "  ggtitle(\"Exposome-Wide Association para BMI\")"
   ]
  },
  {
   "cell_type": "markdown",
   "metadata": {},
   "source": [
    "*   **Pregunta 1:** <font color='green'> **¿El análisis ExWas es controlado por multiple testing?** </font>\n",
    "\n",
    "\n"
   ]
  },
  {
   "cell_type": "markdown",
   "metadata": {},
   "source": [
    "*   **Pregunta 2:** <font color='green'> **¿Si algún participante esta expuesto a PCB153, podemos decir que si también esta expuesto a PCB118 se reducirá su BMI?** </font>\n"
   ]
  },
  {
   "cell_type": "markdown",
   "metadata": {},
   "source": [
    "Utilizando la función `rexposome::plotEffect` podemos ver el efecto estimado para un módelo determinado, en este caso el efecto de las exposiciones postnatales de las familias seleccionadas (Built environment, Metals, Organochlorines) en el BMI."
   ]
  },
  {
   "cell_type": "code",
   "execution_count": null,
   "metadata": {},
   "outputs": [],
   "source": [
    "rexposome::plotEffect(exwas) + ggtitle(\"Forest plot para la asociación de variables del exposoma y BMI\")"
   ]
  },
  {
   "cell_type": "markdown",
   "metadata": {},
   "source": [
    "Otra forma de visualizar los resultados del ExWAS es mediante un volcano-plot, este tipo de gráfico es más ilustrativo ya que combina las tecnicas de visualización enseñadas anteriormente. Este tipo de gráfico enseña el p-valor y el tamaño del efecto de las diferentes exposiciones con el desenlace de salud estudiado (BMI). El volcano-plot puede ser generado mediante la función `rexposome::volcanoPlot`"
   ]
  },
  {
   "cell_type": "code",
   "execution_count": null,
   "metadata": {},
   "outputs": [],
   "source": [
    "rexposome::plotVolcano(exwas)"
   ]
  },
  {
   "cell_type": "markdown",
   "metadata": {},
   "source": [
    "### **3.2.- Métodos para selección de variables**\n",
    "Las técnicas para la selección de variables generalmente son realizadas automáticamente por algoritmos (utilizadas ampliamente en problemas de alta dimensionalidad). En principio estas técnicas nos permiten discriminar aquellas variables o exposiciones que no estan asociadas con un desenlace de salud. Estos métodos de seleción de variables estan implementadas en otras librerias, algunas de ellas son: `Mass`, `Caret`, `DSA`\n",
    "\n",
    "\n"
   ]
  },
  {
   "cell_type": "markdown",
   "metadata": {},
   "source": [
    "* **Stepwise selection:** Esta técnica de selección utiliza una secuencia de pasos para permitir que las variables predictoras entren o salgan de un modelo de regresión una por una (genera múltiples modelos). A menudo, este procedimiento converge en un subconjunto de variables. Los criterios de entrada y salida se basan comúnmente en la significancia del p-valor. La importancia de las características se clasifica según su capacidad individual para explicar la variación en el resultado.\n",
    "\n",
    "\n",
    "\n"
   ]
  },
  {
   "cell_type": "code",
   "execution_count": null,
   "metadata": {},
   "outputs": [],
   "source": [
    "set.seed(234) #definimos una semilla\n",
    "full.model <- lm(hs_zbmi_who ~ h_cohort + e3_sex_None + e3_yearbir_None +\n",
    "                   hs_accesslines300_h_dic0 + hs_accesspoints300_h_Log +\n",
    "                   hs_builtdens300_h_Sqrt + hs_connind300_h_Log +\n",
    "                   hs_fdensity300_h_Log + hs_landuseshan300_h_None +\n",
    "                   hs_popdens_h_Sqrt + hs_walkability_mean_h_None +\n",
    "                   hs_accesslines300_s_dic0 + hs_accesspoints300_s_Log +\n",
    "                   hs_builtdens300_s_Sqrt + hs_connind300_s_Log +\n",
    "                   hs_fdensity300_s_Log + hs_landuseshan300_s_None +\n",
    "                   hs_popdens_s_Sqrt + hs_as_c_Log2 +\n",
    "                   hs_cd_c_Log2 + hs_co_c_Log2 + hs_cs_c_Log2 +\n",
    "                   hs_cu_c_Log2 + hs_hg_c_Log2 + hs_mn_c_Log2 +\n",
    "                   hs_mo_c_Log2 + hs_pb_c_Log2 + hs_dde_cadj_Log2 +\n",
    "                   hs_ddt_cadj_Log2 + hs_hcb_cadj_Log2+\n",
    "                   hs_pcb118_cadj_Log2 + hs_pcb138_cadj_Log2+\n",
    "                   hs_pcb153_cadj_Log2 + hs_pcb170_cadj_Log2 +\n",
    "                   hs_pcb180_cadj_Log2,\n",
    "                 data = data)"
   ]
  },
  {
   "cell_type": "code",
   "execution_count": null,
   "metadata": {},
   "outputs": [],
   "source": [
    "step.model <- stepAIC(full.model, direction = \"both\",\n",
    "                      trace = FALSE,\n",
    "                      scope = list(lower = ~ h_cohort + e3_sex_None + e3_yearbir_None))"
   ]
  },
  {
   "cell_type": "code",
   "execution_count": null,
   "metadata": {},
   "outputs": [],
   "source": [
    "# revisamos los resultados al aplicar el modelo de stepwise\n",
    "summary(step.model)"
   ]
  },
  {
   "cell_type": "markdown",
   "metadata": {},
   "source": [
    "* **Elastic net:** Esta técnica se basa en la combinación de la penalización de LASSO y Ridge, con el objetivo de superar alguna de sus limitaciones. Debido a que en presencia de variables correlacionadas LASSO tiende a seleccionar una variable de un grupo e ignorar el resto y Ridge selecciona algunas variables con magnitudes similares, se logra un buen compromiso al utilizar Elastic net. Los parametros de penalización se optimizan mediante el procedimiento de cross-validation (lo que puede generar problemas de inestabilidad en los resultados)\n"
   ]
  },
  {
   "cell_type": "code",
   "execution_count": null,
   "metadata": {},
   "outputs": [],
   "source": [
    "# Definimos las variables predictoras del modelo (basicamente todas las exposiciones y covariables)\n",
    "x <- model.matrix(hs_zbmi_who ~ h_cohort + e3_sex_None + e3_yearbir_None +\n",
    "                    hs_accesslines300_h_dic0 + hs_accesspoints300_h_Log +\n",
    "                    hs_builtdens300_h_Sqrt + hs_connind300_h_Log +\n",
    "                    hs_fdensity300_h_Log + hs_landuseshan300_h_None +\n",
    "                    hs_popdens_h_Sqrt + hs_walkability_mean_h_None +\n",
    "                    hs_accesslines300_s_dic0 + hs_accesspoints300_s_Log +\n",
    "                    hs_builtdens300_s_Sqrt + hs_connind300_s_Log +\n",
    "                    hs_fdensity300_s_Log + hs_landuseshan300_s_None +\n",
    "                    hs_popdens_s_Sqrt + hs_as_c_Log2 +\n",
    "                    hs_cd_c_Log2 + hs_co_c_Log2 + hs_cs_c_Log2 +\n",
    "                    hs_cu_c_Log2 + hs_hg_c_Log2 + hs_mn_c_Log2 +\n",
    "                    hs_mo_c_Log2 + hs_pb_c_Log2 + hs_dde_cadj_Log2 +\n",
    "                    hs_ddt_cadj_Log2 + hs_hcb_cadj_Log2+\n",
    "                    hs_pcb118_cadj_Log2 + hs_pcb138_cadj_Log2+\n",
    "                    hs_pcb153_cadj_Log2 + hs_pcb170_cadj_Log2 +\n",
    "                    hs_pcb180_cadj_Log2, data)[,-1]\n"
   ]
  },
  {
   "cell_type": "code",
   "execution_count": null,
   "metadata": {},
   "outputs": [],
   "source": [
    "pen.fac <- c(rep(0,12),rep(1,ncol(x)-12))"
   ]
  },
  {
   "cell_type": "code",
   "execution_count": null,
   "metadata": {},
   "outputs": [],
   "source": [
    "set.seed(123)\n",
    "model <- train(x=x, y=data$hs_zbmi_who,\n",
    "  method = \"glmnet\",\n",
    "  trControl = trainControl(\"cv\", number = 10),\n",
    "  tuneLength = 10, penalty.factor=pen.fac\n",
    ")\n"
   ]
  },
  {
   "cell_type": "code",
   "execution_count": null,
   "metadata": {},
   "outputs": [],
   "source": [
    "# Best tuning parameter\n",
    "model$bestTune\n",
    "\n",
    "# Coefficient of the final model. You need\n",
    "# to specify the best lambda\n",
    "coef(model$finalModel, model$bestTune$lambda)"
   ]
  },
  {
   "cell_type": "markdown",
   "metadata": {},
   "source": [
    "Las variables que tienen un **punto (.)** en lugar de un coeficiente han sido excluidas por el método; estos coeficientes se han reducido a cero y no forman parte del modelo final. Esto indica que, según el modelo, no aportan información que mejore significativamente la capacidad de predicción del modelo dadas las actuales parámetros de regularización y la información contenida en las otras variables."
   ]
  },
  {
   "cell_type": "markdown",
   "metadata": {},
   "source": [
    "* **Deletion Substitution Addition (DSA):** Es una técnica basada en multiples iteraciones mediante el uso de cross-validation, en donde se elimina, sustituye o agrega una variable en el modelo. Al igual que la técnica anterior esta sujeta a resultados inestables."
   ]
  },
  {
   "cell_type": "code",
   "execution_count": null,
   "metadata": {},
   "outputs": [],
   "source": [
    "# instalamos/cargamos el DSA\n",
    "pacman::p_load(partDSA)"
   ]
  },
  {
   "cell_type": "code",
   "execution_count": null,
   "metadata": {},
   "outputs": [],
   "source": [
    "control <- DSA.control(vfold=1)  # definimos que no vamos a hacer cross-validation"
   ]
  },
  {
   "cell_type": "code",
   "execution_count": null,
   "metadata": {},
   "outputs": [],
   "source": [
    "# Tiempo estimado de ejecución: 20 segundos aprox.\n",
    "\n",
    "model_dsa <- partDSA(x, data$hs_zbmi_who, control = control)"
   ]
  },
  {
   "cell_type": "code",
   "execution_count": null,
   "metadata": {},
   "outputs": [],
   "source": [
    "print(model_dsa)"
   ]
  },
  {
   "cell_type": "code",
   "execution_count": null,
   "metadata": {},
   "outputs": [],
   "source": [
    "summary(model_dsa)"
   ]
  },
  {
   "cell_type": "code",
   "execution_count": null,
   "metadata": {},
   "outputs": [],
   "source": [
    "model_dsa$var.importance"
   ]
  },
  {
   "cell_type": "markdown",
   "metadata": {},
   "source": [
    "**Variables seleccionadas por el algoritmo:**\n",
    "\n",
    "hs_popdens_h_Sqrt  \n",
    "hs_builtdens300_s_Sqrt  \n",
    "hs_landuseshan300_s_None    \n",
    "hs_dde_cadj_Log2    \n",
    "hs_hcb_cadj_Log2    \n",
    "hs_pcb170_cadj_Log2   "
   ]
  },
  {
   "cell_type": "markdown",
   "metadata": {},
   "source": [
    "*   **Pregunta 3:** <font color='green'> **¿Cúal de los análisis es más confiable?** </font>\n",
    "\n",
    "1. ExWas\n",
    "2. Stepwise\n",
    "3. Elastic net\n",
    "4. DSA\n",
    "\n",
    "*   **Pregunta 4:** <font color='green'> **¿Algunas de las variables fueron seleccionadas por los métodos de selección, seleccionarias estas seis variables para tú modelo de regressión?** </font>\n"
   ]
  },
  {
   "cell_type": "markdown",
   "metadata": {},
   "source": [
    "### **3.3.- Clustering** ###\n",
    "\n",
    "La identificación de patrones de exposición es de particular interes en estudios de exposoma. Utilizando técnicas de clustering en estudios de exposoma intentamos identificar grupos o grupos de sujetos que comparten perfiles de exposiciones similiares y verificamos si estas exposiciones están asociadas con un desenlace de salud.\n"
   ]
  },
  {
   "cell_type": "code",
   "execution_count": null,
   "metadata": {},
   "outputs": [],
   "source": [
    "# Tiempo estimado de ejecución: 48 segundos aprox.\n",
    "\n",
    "pacman::p_load(cluster, factoextra)"
   ]
  },
  {
   "cell_type": "code",
   "execution_count": null,
   "metadata": {},
   "outputs": [],
   "source": [
    "# Centramos las exposiciones por cohorte\n",
    "expo3 <- expo2\n",
    "for (i in 2:length(expo2)) {\n",
    "  mean_y <- with(expo3, {mean_y = ave(expo2[,i],data$h_cohort,FUN=mean)} )\n",
    "  expo3[,i] <- expo3[,i] - mean_y\n",
    "}"
   ]
  },
  {
   "cell_type": "markdown",
   "metadata": {},
   "source": [
    "En técnicas de clustering como K-means, los centros de los clústeres se calculan como el promedio de los puntos que pertenecen a cada clúster. Si los datos no están centrados, las diferencias de media entre cohortes pueden sesgar estos centros y, por lo tanto, la asignación de los puntos a los clústeres. Centrar los datos ayuda a evitar este sesgo."
   ]
  },
  {
   "cell_type": "code",
   "execution_count": null,
   "metadata": {},
   "outputs": [],
   "source": [
    "fviz_nbclust(expo3[,-1], kmeans, method = \"gap_stat\")"
   ]
  },
  {
   "cell_type": "markdown",
   "metadata": {},
   "source": [
    "El número óptimo de clusters esta en el punto donde el estadístico Gap alcanza su valor máximo antes de empezar a disminuir."
   ]
  },
  {
   "cell_type": "markdown",
   "metadata": {},
   "source": [
    "*   **Pregunta 5:** <font color='green'> **¿Qué número de clusters seleccionarias basado en el Gap statistic?** </font>\n"
   ]
  },
  {
   "cell_type": "code",
   "execution_count": null,
   "metadata": {},
   "outputs": [],
   "source": [
    "set.seed(111)\n",
    "km.res <- kmeans(expo3[,-1], centers = 5, nstart = 25)\n",
    "clus.means <- aggregate(expo3[,-1], by=list(cluster=km.res$cluster), mean)"
   ]
  },
  {
   "cell_type": "code",
   "execution_count": null,
   "metadata": {},
   "outputs": [],
   "source": [
    "clus.means"
   ]
  },
  {
   "cell_type": "markdown",
   "metadata": {},
   "source": [
    "Adicionalmente podemos ver por cuantos sujetos esta compuesto cada uno de los clusters o tambien por alguna otra variable."
   ]
  },
  {
   "cell_type": "code",
   "execution_count": null,
   "metadata": {},
   "outputs": [],
   "source": [
    "table(km.res$cluster)"
   ]
  },
  {
   "cell_type": "code",
   "execution_count": null,
   "metadata": {},
   "outputs": [],
   "source": [
    "table(km.res$cluster, data$h_cohort) # miramos el cluster y la cohorte a la que pertenecen"
   ]
  },
  {
   "cell_type": "markdown",
   "metadata": {},
   "source": [
    "Podemos visualizar los patrones del exposoma en los diferentes clusters identificados previamente."
   ]
  },
  {
   "cell_type": "markdown",
   "metadata": {},
   "source": [
    "* **Cluster 1 (N = 239):** Viven en áreas pobladas, densas y transitables; expuestos al Mo y al DDT."
   ]
  },
  {
   "cell_type": "code",
   "execution_count": null,
   "metadata": {},
   "outputs": [],
   "source": [
    "options(repr.plot.width=10, repr.plot.height=4) # definimos el tamaño del gráfico en colab\n",
    "par(mar = c(8, 4, 4, 2) + 0.1)  # c(bottom, left, top, right) ajustamos los margenes\n",
    "barplot(as.numeric(clus.means[1,2:ncol(clus.means)]),\n",
    "        col=c(rep(\"red\",15),rep(\"green\",9),rep(\"blue\",8)),\n",
    "        names.arg=names(clus.means)[-1],\n",
    "        cex.names=.7,\n",
    "        las=2,\n",
    "        srt=90)"
   ]
  },
  {
   "cell_type": "markdown",
   "metadata": {},
   "source": [
    "* **Cluster 2 (N = 425):** Alta exposición a DDT pero baja exposición a otros organoclorados; Baja densidad de población (posible medio rural)."
   ]
  },
  {
   "cell_type": "code",
   "execution_count": null,
   "metadata": {},
   "outputs": [],
   "source": [
    "options(repr.plot.width=10, repr.plot.height=4) # definimos el tamaño del gráfico en colab\n",
    "par(mar = c(8, 4, 4, 2) + 0.1)  # c(bottom, left, top, right) ajustamos los margenes\n",
    "barplot(as.numeric(clus.means[2,2:ncol(clus.means)]), col=c(rep(\"red\",15),rep(\"green\",9),rep(\"blue\",8)),\n",
    "        names.arg=names(clus.means)[-1],\n",
    "        cex.names=.6,\n",
    "        las=2,\n",
    "        srt=90)"
   ]
  },
  {
   "cell_type": "markdown",
   "metadata": {},
   "source": [
    "* **Cluster 3 (N = 113):** Exposición más baja a PCB170."
   ]
  },
  {
   "cell_type": "code",
   "execution_count": null,
   "metadata": {},
   "outputs": [],
   "source": [
    "options(repr.plot.width=10, repr.plot.height=3) # definimos el tamaño del gráfico en colab\n",
    "par(mar = c(8, 4, 4, 2) + 0.1)  # c(bottom, left, top, right) ajustamos los margenes\n",
    "barplot(as.numeric(clus.means[3,2:ncol(clus.means)]), col=c(rep(\"red\",15),rep(\"green\",9),rep(\"blue\",8)),\n",
    "        names.arg=names(clus.means)[-1],\n",
    "        cex.names=.6, las=2, srt=90)"
   ]
  },
  {
   "cell_type": "markdown",
   "metadata": {},
   "source": [
    "* **Cluster 4 (N = 312):** Altamente expuestos a todos los organoclorados"
   ]
  },
  {
   "cell_type": "code",
   "execution_count": null,
   "metadata": {},
   "outputs": [],
   "source": [
    "options(repr.plot.width=10, repr.plot.height=3) # definimos el tamaño del gráfico en colab\n",
    "par(mar = c(8, 4, 4, 2) + 0.1)  # c(bottom, left, top, right) ajustamos los margenes\n",
    "barplot(as.numeric(clus.means[4,2:ncol(clus.means)]), col=c(rep(\"red\",15),rep(\"green\",9),rep(\"blue\",8)),\n",
    "names.arg=names(clus.means)[-1],\n",
    "        cex.names=.6, las=2, srt=90)"
   ]
  },
  {
   "cell_type": "markdown",
   "metadata": {},
   "source": [
    "* **Cluster 5 (N = 212):** La menor exposición a DDT"
   ]
  },
  {
   "cell_type": "code",
   "execution_count": null,
   "metadata": {},
   "outputs": [],
   "source": [
    "options(repr.plot.width=10, repr.plot.height=3) # definimos el tamaño del gráfico en colab\n",
    "par(mar = c(8, 4, 4, 2) + 0.1)  # c(bottom, left, top, right) ajustamos los margenes\n",
    "barplot(as.numeric(clus.means[5,2:ncol(clus.means)]), col=c(rep(\"red\",15),rep(\"green\",9),rep(\"blue\",8)),\n",
    "names.arg=names(clus.means)[-1],\n",
    "        cex.names=.6, las=2, srt=90)"
   ]
  },
  {
   "cell_type": "markdown",
   "metadata": {},
   "source": [
    "Finalmente podemos mirar la asociación de cada uno de los cluster con el desenlace de interes de salud ajustando por algunas covariales de interes."
   ]
  },
  {
   "cell_type": "code",
   "execution_count": null,
   "metadata": {},
   "outputs": [],
   "source": [
    "mod_cluster <- lm(hs_zbmi_who ~ as.factor(km.res$cluster) + h_cohort + e3_sex_None + e3_yearbir_None, data = data) # ajustamos por cohorte, sexo y año de nacimiento\n",
    "summary(mod_cluster)"
   ]
  },
  {
   "cell_type": "code",
   "execution_count": null,
   "metadata": {},
   "outputs": [],
   "source": [
    "# Tiempo estimado de ejecución: 60 segundos aprox.\n",
    "pacman::p_load(dotwhisker)"
   ]
  },
  {
   "cell_type": "code",
   "execution_count": null,
   "metadata": {},
   "outputs": [],
   "source": [
    "options(repr.plot.width=10, repr.plot.height=5) # definimos el tamaño del gráfico en collab\n",
    "# envolvemos nuestra función para quitar los warnings en colab\n",
    "suppressWarnings(dotwhisker::dwplot(mod_cluster, vline = geom_vline(\n",
    "           xintercept = 0,\n",
    "           colour = \"black\",\n",
    "           linetype = 2)) + theme_classic())"
   ]
  },
  {
   "cell_type": "markdown",
   "metadata": {},
   "source": [
    "En los resultados de la regresión podemos ver que pertenecer al **cluster 2**, **cluster3** y **cluster 4** esta asociado con un incremento en BMI, esto va a depender al cluster que seleccionemos cómo referencia.   "
   ]
  },
  {
   "cell_type": "markdown",
   "metadata": {},
   "source": [
    "### **3.3.- Análisis de Mezclas**\n",
    "\n",
    "La idea principal en análisis de mezcla o mixtures, es que niveles bajos de exposición a un determinado contaminante pueden no producir efectos en salud (o efectos demasiado pequeños para ser detectados), pero la exposición combinada a múltiples contaminantes puede generar un efecto.\n",
    "\n",
    "Los enfoques comúnmente utilizados en epidemiologia ambiental fallan en capturar la complejidad al evaluar el efecto combinado de múltiples exposiciones debido a algunas limitaciones:\n",
    "\n",
    "* No evalúan el efecto conjunto de múltiples exposiciones.\n",
    "* No consideran la interacción entre diferentes exposiciones.\n",
    "* Se enfrentan a una alta correlación entre exposiciones.\n",
    "\n",
    "Por lo tanto se necesitan métodos más sofisticados para investigar los efectos en salud de mezclas o múltiples exposiciones. En los últimos años diversos métodos han sido propuestos para estimar los efectos independientes y conjuntos de múltiples exposiciones.\n",
    "\n",
    "La **selección** del **método correcto** en **análisis de mezclas** debe estar guiado por la **pregunta de investigación** que queremos responder.\n",
    "\n",
    "<img src=\"https://github.com/alldominguez/ISGlobal.sesion4.Exposoma/blob/main/figures/PRIME.png?raw=1\" alt=\"ISGlobal logo\" width=\"500\"/>  \n",
    "\n",
    "\n",
    "En esta sección revisaremos dos métodos para el análisis de mezclas.\n",
    "\n",
    "**1. Weighted Quantile Sum Regression (WQS)**  \n",
    "**2. Bayesian Kernel Machine Regression (BKMR)**   \n",
    "\n",
    "**Nota:** Los análisis de mezclas consumen mucho tiempo. Es por esto, que en esta sección se enseñaran el código necesario para realizar los análsis y la interpretación de los resultados, sin correr las celdas.  \n",
    "\n"
   ]
  },
  {
   "cell_type": "markdown",
   "metadata": {},
   "source": [
    "Con la siguiente línea instalamos los paquetes necesarios para realizar el análisis de mezcla."
   ]
  },
  {
   "cell_type": "code",
   "execution_count": null,
   "metadata": {},
   "outputs": [],
   "source": [
    "# Instalamos/cargamos los paquetes necesarios para realizar el análisis\n",
    "pacman::p_load(gWQS, bkmr, MASS)"
   ]
  },
  {
   "cell_type": "markdown",
   "metadata": {},
   "source": [
    "Para **facilitar la interpretación** de los resultados utilizaremos solo la familia de organoclorados para el análisis de mezcla."
   ]
  },
  {
   "cell_type": "code",
   "execution_count": null,
   "metadata": {},
   "outputs": [],
   "source": [
    "codebook$family"
   ]
  },
  {
   "cell_type": "code",
   "execution_count": null,
   "metadata": {},
   "outputs": [],
   "source": [
    "# Hacemos un subset de la expolist utilizando solo los compuestos organoclorados\n",
    "expo.list <- as.character(codebook$variable_name[(codebook$family == \"Organochlorines\") &\n",
    "                                                  codebook$period == \"Postnatal\"]) # aquí cambiamos el periodo de exposicion a la etapa Prenatal\n",
    "expo.list"
   ]
  },
  {
   "cell_type": "code",
   "execution_count": null,
   "metadata": {},
   "outputs": [],
   "source": [
    "expo2 <- exposome[ ,c(\"ID\", expo.list)]"
   ]
  },
  {
   "cell_type": "code",
   "execution_count": null,
   "metadata": {},
   "outputs": [],
   "source": [
    "dat <- cbind(hs_zbmi_who = phenotype[ ,4],  # seleccionamos la 4 columna del dataframe phenotype y la llamamos hs_zbmi_who\n",
    "             covariates[ ,2:13])  # seleccionamos de las columnas 2 a la 13 del dataframe covariates\n",
    "\n",
    "# luego combinamos\n",
    "data <- data.frame(expo2, dat)"
   ]
  },
  {
   "cell_type": "markdown",
   "metadata": {},
   "source": [
    "* **Weighted Quantile Sum Regression (WQS)**\n",
    "\n",
    "Es una método que opera en un marco de aprendizaje supervisado,  creando una puntuación única (la suma cuantil ponderada) que resume la exposición general a la mezcla e incluyendo esta puntuación en un modelo de regresión. Tiene como objetivo evaluar el efecto general de la mezcla sobre el resultado de interés. La puntuación se calcula como una suma ponderada (de modo que las exposiciones con efectos más débiles en el resultado tengan menor peso en el índice) de todas las exposiciones categorizadas en cuartiles, o más grupos, de modo que los valores extremos tengan menos impacto en la estimación del peso."
   ]
  },
  {
   "cell_type": "code",
   "execution_count": null,
   "metadata": {},
   "outputs": [],
   "source": [
    "mod_wqs <- gwqs(hs_zbmi_who ~ wqs + h_cohort + e3_sex_None + e3_yearbir_None, mix_name = expo.list, data = data,\n",
    "                q = 10, validation = 0.6, b = 100, b1_pos = FALSE,\n",
    "                b1_constr = FALSE, family = \"gaussian\", seed = 2016)"
   ]
  },
  {
   "cell_type": "code",
   "execution_count": null,
   "metadata": {},
   "outputs": [],
   "source": [
    "options(repr.plot.width=10, repr.plot.height=5) # definimos el tamaño del gráfico en colab\n",
    "gwqs_barplot(mod_wqs)"
   ]
  },
  {
   "cell_type": "code",
   "execution_count": null,
   "metadata": {},
   "outputs": [],
   "source": [
    "summary(mod_wqs)"
   ]
  },
  {
   "cell_type": "code",
   "execution_count": null,
   "metadata": {},
   "outputs": [],
   "source": [
    "options(repr.plot.width=10, repr.plot.height=5) # definimos el tamaño del gráfico en colab\n",
    "gwqs_scatterplot(mod_wqs)"
   ]
  },
  {
   "cell_type": "markdown",
   "metadata": {},
   "source": [
    "Los participantes que se encuentran el los deciles superiores de las exposiciones seleccionadas son los que estan asociadas con un menor BMI."
   ]
  },
  {
   "cell_type": "markdown",
   "metadata": {},
   "source": [
    "*   **Pregunta 6:** <font color='green'> **¿El modelo tiene en consideración posibles interacciones?** </font>"
   ]
  },
  {
   "cell_type": "markdown",
   "metadata": {},
   "source": [
    "* **Bayesian Kernel Machine Regression (BKMR)**  \n",
    "\n",
    "Es un método diseñado para abordar de una manera flexible y no-paramétrica, varios objetivos como; **1. Detección y estimación del efecto general de la mezcla** ; **2. Identificación del contaminante o grupo de contaminantes responsables de los efectos observados de la mezcla** ; **3. Visualización de la función exposición-respuesta** ; **4. Detección de interacciones entre contaminantes individuales**.\n",
    "\n",
    "\n",
    "\n",
    "\n",
    "\n"
   ]
  },
  {
   "cell_type": "code",
   "execution_count": null,
   "metadata": {},
   "outputs": [],
   "source": [
    "expo.list"
   ]
  },
  {
   "cell_type": "code",
   "execution_count": null,
   "metadata": {},
   "outputs": [],
   "source": [
    "# Definimos un dataframe nuevo utilizando los datos del objeto data, anteriormente utilizado en los análisis\n",
    "X = data.frame(cohort2=as.numeric(data$h_cohort==2), cohort3=as.numeric(data$h_cohort==3),cohort4=as.numeric(data$h_cohort==4),\n",
    "               cohort5=as.numeric(data$h_cohort==5), cohort6=as.numeric(data$h_cohort==6), female=as.numeric(data$e3_sex_None==\"female\"),\n",
    "               year2004=as.numeric(data$e3_yearbir_None==2004), year2005=as.numeric(data$e3_yearbir_None==2005),\n",
    "               year2006=as.numeric(data$e3_yearbir_None==2006), year2007=as.numeric(data$e3_yearbir_None==2007),\n",
    "               year2008=as.numeric(data$e3_yearbir_None==2008), year2009=as.numeric(data$e3_yearbir_None==2009))"
   ]
  },
  {
   "cell_type": "code",
   "execution_count": null,
   "metadata": {},
   "outputs": [],
   "source": [
    "# Tarda aproximadamente 50 minutos\n",
    "set.seed(111)\n",
    "fitkm <- kmbayes(y = data$hs_zbmi_who, Z = data[,expo.list], X = X,\n",
    "                 iter = 10000, verbose = FALSE, varsel = TRUE)"
   ]
  },
  {
   "cell_type": "code",
   "execution_count": null,
   "metadata": {},
   "outputs": [],
   "source": [
    "# Objeto que contiene\n",
    "fitkm"
   ]
  },
  {
   "cell_type": "markdown",
   "metadata": {},
   "source": [
    "Al utilizar varias iteraciones, es importante evaluar la convergencia de los parámetros. Observando los gráficos de convergiancia podemos verificar esto (esperamos un comportamiento aleatorio alrededor de la línea recta). Lo que generalmente observamos es una fase inicial de \"burning\", que deberíamos eliminar del análisis."
   ]
  },
  {
   "cell_type": "code",
   "execution_count": null,
   "metadata": {},
   "outputs": [],
   "source": [
    "bkmr::TracePlot(fit = fitkm, par = \"beta\")"
   ]
  },
  {
   "cell_type": "markdown",
   "metadata": {},
   "source": [
    "Adicionalmente podemos mirar la probabilidad de inclusion posterior usando `bkmr::ExtractPIPs`"
   ]
  },
  {
   "cell_type": "code",
   "execution_count": null,
   "metadata": {},
   "outputs": [],
   "source": [
    "bkmr::ExtractPIPs(fitkm)"
   ]
  },
  {
   "cell_type": "markdown",
   "metadata": {},
   "source": [
    "Para obtener  la función exposición-respuesta para cada predictor/exposición utilizamos `bkmr::PredictorResponseUnivar`"
   ]
  },
  {
   "cell_type": "code",
   "execution_count": null,
   "metadata": {},
   "outputs": [],
   "source": [
    "pred.resp.univar <- bkmr::PredictorResponseUnivar(fit = fitkm)"
   ]
  },
  {
   "cell_type": "code",
   "execution_count": null,
   "metadata": {},
   "outputs": [],
   "source": [
    "for (i in 1:length(expo.list)) {\n",
    "  z <- pred.resp.univar$z[pred.resp.univar$variable==expo.list[i]]\n",
    "  est <- pred.resp.univar$est[pred.resp.univar$variable==expo.list[i]]\n",
    "  lower <- pred.resp.univar$est[pred.resp.univar$variable==expo.list[i]]-1.96*pred.resp.univar$se[pred.resp.univar$variable==expo.list[i]]\n",
    "  upper <- pred.resp.univar$est[pred.resp.univar$variable==expo.list[i]]+1.96*pred.resp.univar$se[pred.resp.univar$variable==expo.list[i]]\n",
    "  plot(z,est,type=\"l\", col=\"blue\",lwd=4,\n",
    "     xlab=expo.list[i],ylab=\"hs_zbmi_who\", ylim=c(min(lower),max(upper)),cex.lab=1.5)\n",
    "  lines(z,lower,lty=2, col=\"blue\",lwd=2)\n",
    "  lines(z,upper,lty=2, col=\"blue\",lwd=2)\n",
    "}"
   ]
  },
  {
   "cell_type": "code",
   "execution_count": null,
   "metadata": {},
   "outputs": [],
   "source": []
  },
  {
   "cell_type": "code",
   "execution_count": null,
   "metadata": {},
   "outputs": [],
   "source": [
    "# Tambien podemos usar ggplot para mirar los graficos\n",
    "options(repr.plot.width = 10, repr.plot.height = 10) # definimos el tamaño del gráfico en colab\n",
    "ggplot(pred.resp.univar, aes(z, est, ymin = est - 1.96*se,\n",
    "                             ymax = est + 1.96*se)) +\n",
    "  geom_smooth(stat = \"identity\") + ylab(\"h(z)\") +\n",
    "  facet_wrap(~ variable) +\n",
    "  theme_bw()"
   ]
  },
  {
   "cell_type": "markdown",
   "metadata": {},
   "source": [
    "Adicionalmente podemos obtener el efecto conjunto de la mezcla utilizando la fúncion `bkmr::OverallRiskSummaries`"
   ]
  },
  {
   "cell_type": "code",
   "execution_count": null,
   "metadata": {},
   "outputs": [],
   "source": [
    "risks.overall <- bkmr::OverallRiskSummaries(fit=fitkm, qs=seq(0.25, 0.75, by=0.05),\n",
    "                                      q.fixed = 0.5, method = \"approx\")"
   ]
  },
  {
   "cell_type": "code",
   "execution_count": null,
   "metadata": {},
   "outputs": [],
   "source": [
    "options(repr.plot.width = 8, repr.plot.height = 8) # definimos el tamaño del gráfico en colab\n",
    "ggplot(risks.overall, aes(quantile, est, ymin = est - 1.96*sd,\n",
    "                          ymax = est + 1.96*sd)) +\n",
    "  geom_hline(yintercept=00, linetype=\"dashed\", color=\"gray\") +\n",
    "  geom_pointrange() + scale_y_continuous(name=\"estimate\")"
   ]
  },
  {
   "cell_type": "markdown",
   "metadata": {},
   "source": [
    "Si queremos conocer la contribución de un predictor individual en el desenlace de salud analizado utilizamos la función `bkmr::SingVarRiskSummaries`.\n"
   ]
  },
  {
   "cell_type": "code",
   "execution_count": null,
   "metadata": {},
   "outputs": [],
   "source": [
    "risks.singvar <- SingVarRiskSummaries(fit= fitkm, qs.diff = c(0.25, 0.75),\n",
    "                                      q.fixed = c(0.25, 0.50, 0.75),\n",
    "                                      method = \"approx\")"
   ]
  },
  {
   "cell_type": "code",
   "execution_count": null,
   "metadata": {},
   "outputs": [],
   "source": [
    "options(repr.plot.width = 8, repr.plot.height = 8) # definimos el tamaño del gráfico en colab\n",
    "ggplot(risks.singvar, aes(variable, est, ymin = est - 1.96*sd,\n",
    "                          ymax = est + 1.96*sd, col = q.fixed)) +\n",
    "       geom_hline(aes(yintercept=0), linetype=\"dashed\", color=\"gray\") +\n",
    "       geom_pointrange(position = position_dodge(width = 0.75)) +\n",
    "       coord_flip() + theme(legend.position=\"none\")+scale_x_discrete(name=\"\") +\n",
    "       scale_y_continuous(name=\"estimate\")"
   ]
  }
 ],
 "metadata": {},
 "nbformat": 4,
 "nbformat_minor": 0
}
